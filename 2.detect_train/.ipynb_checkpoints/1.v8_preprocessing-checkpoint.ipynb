{
 "cells": [
  {
   "cell_type": "code",
   "execution_count": null,
   "metadata": {},
   "outputs": [],
   "source": [
    "# 使用YOLOv8模型对视频进行截图"
   ]
  },
  {
   "cell_type": "code",
   "execution_count": 1,
   "metadata": {},
   "outputs": [],
   "source": [
    "from ultralytics import YOLO\n",
    "import cv2\n",
    "import numpy as np\n",
    "import time"
   ]
  },
  {
   "cell_type": "code",
   "execution_count": 2,
   "metadata": {},
   "outputs": [
    {
     "name": "stdout",
     "output_type": "stream",
     "text": [
      "{0: 'person', 1: 'bicycle', 2: 'car', 3: 'motorcycle', 4: 'airplane', 5: 'bus', 6: 'train', 7: 'truck', 8: 'boat', 9: 'traffic light', 10: 'fire hydrant', 11: 'stop sign', 12: 'parking meter', 13: 'bench', 14: 'bird', 15: 'cat', 16: 'dog', 17: 'horse', 18: 'sheep', 19: 'cow', 20: 'elephant', 21: 'bear', 22: 'zebra', 23: 'giraffe', 24: 'backpack', 25: 'umbrella', 26: 'handbag', 27: 'tie', 28: 'suitcase', 29: 'frisbee', 30: 'skis', 31: 'snowboard', 32: 'sports ball', 33: 'kite', 34: 'baseball bat', 35: 'baseball glove', 36: 'skateboard', 37: 'surfboard', 38: 'tennis racket', 39: 'bottle', 40: 'wine glass', 41: 'cup', 42: 'fork', 43: 'knife', 44: 'spoon', 45: 'bowl', 46: 'banana', 47: 'apple', 48: 'sandwich', 49: 'orange', 50: 'broccoli', 51: 'carrot', 52: 'hot dog', 53: 'pizza', 54: 'donut', 55: 'cake', 56: 'chair', 57: 'couch', 58: 'potted plant', 59: 'bed', 60: 'dining table', 61: 'toilet', 62: 'tv', 63: 'laptop', 64: 'mouse', 65: 'remote', 66: 'keyboard', 67: 'cell phone', 68: 'microwave', 69: 'oven', 70: 'toaster', 71: 'sink', 72: 'refrigerator', 73: 'book', 74: 'clock', 75: 'vase', 76: 'scissors', 77: 'teddy bear', 78: 'hair drier', 79: 'toothbrush'}\n"
     ]
    }
   ],
   "source": [
    "\n",
    "# 加载模型\n",
    "model_file = \"./weights/yolov8x.pt\" # 最大的模型\n",
    "model = YOLO(model_file)  # load a pretrained model (recommended for training)\n",
    "objs_labels = model.names  # get class labels\n",
    "print(objs_labels)\n"
   ]
  },
  {
   "cell_type": "code",
   "execution_count": 3,
   "metadata": {},
   "outputs": [],
   "source": [
    "# iterate all videos\n",
    "import glob\n",
    "import os\n",
    "import tqdm"
   ]
  },
  {
   "cell_type": "code",
   "execution_count": 4,
   "metadata": {},
   "outputs": [],
   "source": [
    "videos_list = glob.glob(\"./videos/*.mp4\")"
   ]
  },
  {
   "cell_type": "code",
   "execution_count": 5,
   "metadata": {},
   "outputs": [
    {
     "data": {
      "text/plain": [
       "['./videos\\\\D02_20230707102139.mp4',\n",
       " './videos\\\\D03_20230707102214.mp4',\n",
       " './videos\\\\D04_20230707102216.mp4',\n",
       " './videos\\\\D05_20230707102820.mp4',\n",
       " './videos\\\\D06_20230707102750.mp4',\n",
       " './videos\\\\D09_20230707102816.mp4']"
      ]
     },
     "execution_count": 5,
     "metadata": {},
     "output_type": "execute_result"
    }
   ],
   "source": [
    "videos_list"
   ]
  },
  {
   "cell_type": "code",
   "execution_count": 6,
   "metadata": {},
   "outputs": [],
   "source": [
    "# 截图\n",
    "# 参数：视频文件，保存的帧数，跳过的帧数\n",
    "def video2frame(video_file, save_count=1200, skip_interval=10):\n",
    "    # 读取视频\n",
    "    cap = cv2.VideoCapture(video_file)\n",
    "    # get frame count\n",
    "    frame_count = cap.get(cv2.CAP_PROP_FRAME_COUNT)\n",
    "    # 获取视频的宽度和高度\n",
    "    width = int(cap.get(cv2.CAP_PROP_FRAME_WIDTH))\n",
    "    height = int(cap.get(cv2.CAP_PROP_FRAME_HEIGHT))\n",
    "    # 获取视频的帧率\n",
    "    fps = cap.get(cv2.CAP_PROP_FPS)\n",
    "    print(f\"width: {width}, height: {height}, fps: {fps}, frame_count: {frame_count}\")\n",
    "\n",
    "    # 保存的帧数\n",
    "    save_frame_count = 0\n",
    "    # frame index\n",
    "    index = 0\n",
    "    while True:\n",
    "        # 读取一帧\n",
    "        start_time = time.time()\n",
    "        ret, frame = cap.read()\n",
    "\n",
    "        if ret:\n",
    "            index += 1  # frame index\n",
    "            # skip frames\n",
    "            if index % skip_interval != 0:\n",
    "                print(f\"skip frame: {index}\")\n",
    "                continue\n",
    "            # check if save enough frames\n",
    "            if save_frame_count >= save_count:\n",
    "                break\n",
    "            # 检测\n",
    "            result = list(model(frame, stream=True, conf=0.4))[\n",
    "                0\n",
    "            ]  # inference，如果stream=False，返回的是一个列表，如果stream=True，返回的是一个生成器\n",
    "            boxes = result.boxes  # Boxes object for bbox outputs\n",
    "            boxes = boxes.cpu().numpy()  # convert to numpy array\n",
    "\n",
    "            # 参考：https://docs.ultralytics.com/modes/predict/#boxes\n",
    "            # 遍历每个框\n",
    "            for box in boxes.data:\n",
    "                l, t, r, b = box[:4].astype(np.int32)  # left, top, right, bottom\n",
    "                conf, id = box[4:]  # confidence, class\n",
    "                # print(f\"l: {l}, t: {t}, r: {r}, b: {b}, conf: {conf}, id: {id}\")\n",
    "                # if id == 0: # 如果是人，保存图片\n",
    "                if id == 0:\n",
    "                    # filename: video_name_frame_index.jpg\n",
    "                    save_img_file = f\"./images/{video_file.split(os.sep)[-1].split('.')[0]}_{index}.jpg\"\n",
    "                    cv2.imwrite(save_img_file, frame)\n",
    "                    print(save_img_file)\n",
    "                    # jump out of loop\n",
    "                    save_frame_count += 1\n",
    "                    break\n",
    "                # print(save_img_file)\n",
    "                # 绘制框\n",
    "                # cv2.rectangle(frame, (l,t), (r,b), (0,0,255), 2)\n",
    "                # 绘制类别+置信度（格式：98.1%）\n",
    "                # cv2.putText(frame, f\"{objs_labels[id]} {conf*100:.1f}%\", (l, t-10), cv2.FONT_HERSHEY_SIMPLEX, 1, (0, 255, 0), 2)\n",
    "\n",
    "            # end time\n",
    "            end_time = time.time()\n",
    "            # FPS\n",
    "            fps = 1 / (end_time - start_time)\n",
    "            # 绘制FPS\n",
    "            # cv2.putText(frame, f\"FPS: {fps:.2f}\", (10, 30), cv2.FONT_HERSHEY_SIMPLEX, 1, (0, 255, 0), 2)\n",
    "\n",
    "            # 写入\n",
    "            # writer.write(frame)\n",
    "            # 显示\n",
    "            # 缩放0.5倍\n",
    "            # frame = cv2.resize(frame, (int(width/2), int(height/2)))\n",
    "            # cv2.imshow(\"frame\", frame)\n",
    "            # if cv2.waitKey(1) & 0xFF == ord('q'):\n",
    "            #     break\n",
    "\n",
    "        else:\n",
    "            break"
   ]
  },
  {
   "cell_type": "code",
   "execution_count": 7,
   "metadata": {},
   "outputs": [],
   "source": [
    "import os"
   ]
  },
  {
   "cell_type": "code",
   "execution_count": 8,
   "metadata": {},
   "outputs": [],
   "source": [
    "# 创建目录\n",
    "if not os.path.exists(\"./images\"):\n",
    "    os.mkdir(\"./images\")"
   ]
  },
  {
   "cell_type": "code",
   "execution_count": null,
   "metadata": {},
   "outputs": [],
   "source": [
    "# 遍历所有视频\n",
    "for video_file in videos_list:\n",
    "    # 每个视频截取100张图片，间隔50帧\n",
    "    video2frame(video_file,100,50)"
   ]
  },
  {
   "cell_type": "code",
   "execution_count": null,
   "metadata": {},
   "outputs": [],
   "source": [
    "print(\"done\")"
   ]
  },
  {
   "cell_type": "code",
   "execution_count": null,
   "metadata": {},
   "outputs": [],
   "source": [
    "# 再用labelImg检查"
   ]
  },
  {
   "cell_type": "code",
   "execution_count": null,
   "metadata": {},
   "outputs": [],
   "source": []
  }
 ],
 "metadata": {
  "kernelspec": {
   "display_name": "Python 3 (ipykernel)",
   "language": "python",
   "name": "python3"
  },
  "language_info": {
   "codemirror_mode": {
    "name": "ipython",
    "version": 3
   },
   "file_extension": ".py",
   "mimetype": "text/x-python",
   "name": "python",
   "nbconvert_exporter": "python",
   "pygments_lexer": "ipython3",
   "version": "3.8.18"
  }
 },
 "nbformat": 4,
 "nbformat_minor": 4
}
